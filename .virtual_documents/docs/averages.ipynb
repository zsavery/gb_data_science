























my_nums = [88, 5, 4, 16, 72, 22, 75, 74, 27, 9]
count = len(my_nums)
mean = sum(my_nums)/count
print(mean)








sorted_my_nums = sorted(my_nums)
print(sorted_my_nums)
median = None
if (count % 2 == 0):
    median = (sorted_my_nums[count // 2] + sorted_my_nums[count // 2-1])/2
else:
    median = median = sorted_my_nums[count // 2]
print(median)








# Version 1
my_nums = [2, 4, 5, 5, 7, 8, 8, 9, 10]
my_dict = {num: my_nums.count(num) for num in my_nums}
mode = [k for k, v in my_dict.items() if v == max(my_dict.values())]
#mode = [k for num in my_nums if my_nums.count(num) == ]
print(mode)


# Version 2
my_dict = {}
for num in my_nums:
    my_dict[num] = my_nums.count(num)
mode = []
for k, v in my_dict.items():
    if v == max(my_dict.values()):
        mode.append(k)
print(mode)





import numpy as np


data = np.random.randint(15_000, 200_000, 40)  # 1d array with 5 evenly spaced numbers between 0 and 10
print(data)
max_value = np.max(data)
min_value = np.min(data)
print(f'Max: ${max_value}, Min: ${min_value}')
domain = {'min': min_value, 'max': max_value}
print(f'Domain: ${domain.get("min")} -> ${domain.get("max")}')





range  = max_value - min_value
print(f'Range: ${range}')





variance = data.var()
print(f"Variance of : {variance}")






stdev= data.std()
print(f"Standard deviation : {stdev}")



