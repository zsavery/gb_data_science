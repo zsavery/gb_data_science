{
 "cells": [
  {
   "cell_type": "markdown",
   "id": "b1444e17-2228-4b72-baf3-9b710157d4dc",
   "metadata": {},
   "source": [
    "# Births.csv to Pandas\n"
   ]
  },
  {
   "cell_type": "code",
   "execution_count": 1,
   "id": "3434f193-7f86-46cd-9737-e080c8353cb6",
   "metadata": {},
   "outputs": [
    {
     "name": "stdout",
     "output_type": "stream",
     "text": [
      "\u001b[1;33mJupyter detected\u001b[0m\u001b[1;33m...\u001b[0m\n",
      "Retrieving noticdone\n",
      "Channels:\n",
      " - defaults\n",
      "Platform: osx-arm64\n",
      "doneecting package metadata (repodata.json): - \n",
      "Solving envdone\n",
      "\n",
      "# All requested packages already installed.\n",
      "\n",
      "\n",
      "Note: you may need to restart the kernel to use updated packages.\n"
     ]
    }
   ],
   "source": [
    "%conda install pandas"
   ]
  },
  {
   "cell_type": "code",
   "execution_count": 2,
   "id": "2174c126-9979-4c5f-9c6f-707b26947da4",
   "metadata": {},
   "outputs": [],
   "source": [
    "import pandas as pd"
   ]
  },
  {
   "cell_type": "code",
   "execution_count": 3,
   "id": "b4dcc92a-18db-4d85-a5ed-4887d4e23f1b",
   "metadata": {},
   "outputs": [
    {
     "name": "stdout",
     "output_type": "stream",
     "text": [
      "   year  month  day gender  births\n",
      "0  1969      1  1.0      F    4046\n",
      "1  1969      1  1.0      M    4440\n",
      "2  1969      1  2.0      F    4454\n",
      "3  1969      1  2.0      M    4548\n",
      "4  1969      1  3.0      F    4548\n",
      "5  1969      1  3.0      M    4994\n",
      "6  1969      1  4.0      F    4440\n",
      "7  1969      1  4.0      M    4520\n",
      "8  1969      1  5.0      F    4192\n",
      "9  1969      1  5.0      M    4198\n"
     ]
    }
   ],
   "source": [
    "# grab data\n",
    "birth_data_df = pd.read_csv('data/Births.csv')\n",
    "print(birth_data_df.head(10))"
   ]
  },
  {
   "cell_type": "code",
   "execution_count": 4,
   "id": "23268cb2-14b9-4994-a9aa-e9d73ce78387",
   "metadata": {},
   "outputs": [
    {
     "data": {
      "text/html": [
       "<div>\n",
       "<style scoped>\n",
       "    .dataframe tbody tr th:only-of-type {\n",
       "        vertical-align: middle;\n",
       "    }\n",
       "\n",
       "    .dataframe tbody tr th {\n",
       "        vertical-align: top;\n",
       "    }\n",
       "\n",
       "    .dataframe thead th {\n",
       "        text-align: right;\n",
       "    }\n",
       "</style>\n",
       "<table border=\"1\" class=\"dataframe\">\n",
       "  <thead>\n",
       "    <tr style=\"text-align: right;\">\n",
       "      <th></th>\n",
       "      <th>year</th>\n",
       "      <th>month</th>\n",
       "      <th>day</th>\n",
       "      <th>gender</th>\n",
       "      <th>births</th>\n",
       "    </tr>\n",
       "  </thead>\n",
       "  <tbody>\n",
       "    <tr>\n",
       "      <th>0</th>\n",
       "      <td>1969</td>\n",
       "      <td>1</td>\n",
       "      <td>1.0</td>\n",
       "      <td>F</td>\n",
       "      <td>4046</td>\n",
       "    </tr>\n",
       "    <tr>\n",
       "      <th>1</th>\n",
       "      <td>1969</td>\n",
       "      <td>1</td>\n",
       "      <td>1.0</td>\n",
       "      <td>M</td>\n",
       "      <td>4440</td>\n",
       "    </tr>\n",
       "    <tr>\n",
       "      <th>2</th>\n",
       "      <td>1969</td>\n",
       "      <td>1</td>\n",
       "      <td>2.0</td>\n",
       "      <td>F</td>\n",
       "      <td>4454</td>\n",
       "    </tr>\n",
       "    <tr>\n",
       "      <th>3</th>\n",
       "      <td>1969</td>\n",
       "      <td>1</td>\n",
       "      <td>2.0</td>\n",
       "      <td>M</td>\n",
       "      <td>4548</td>\n",
       "    </tr>\n",
       "    <tr>\n",
       "      <th>4</th>\n",
       "      <td>1969</td>\n",
       "      <td>1</td>\n",
       "      <td>3.0</td>\n",
       "      <td>F</td>\n",
       "      <td>4548</td>\n",
       "    </tr>\n",
       "    <tr>\n",
       "      <th>5</th>\n",
       "      <td>1969</td>\n",
       "      <td>1</td>\n",
       "      <td>3.0</td>\n",
       "      <td>M</td>\n",
       "      <td>4994</td>\n",
       "    </tr>\n",
       "    <tr>\n",
       "      <th>6</th>\n",
       "      <td>1969</td>\n",
       "      <td>1</td>\n",
       "      <td>4.0</td>\n",
       "      <td>F</td>\n",
       "      <td>4440</td>\n",
       "    </tr>\n",
       "    <tr>\n",
       "      <th>7</th>\n",
       "      <td>1969</td>\n",
       "      <td>1</td>\n",
       "      <td>4.0</td>\n",
       "      <td>M</td>\n",
       "      <td>4520</td>\n",
       "    </tr>\n",
       "    <tr>\n",
       "      <th>8</th>\n",
       "      <td>1969</td>\n",
       "      <td>1</td>\n",
       "      <td>5.0</td>\n",
       "      <td>F</td>\n",
       "      <td>4192</td>\n",
       "    </tr>\n",
       "    <tr>\n",
       "      <th>9</th>\n",
       "      <td>1969</td>\n",
       "      <td>1</td>\n",
       "      <td>5.0</td>\n",
       "      <td>M</td>\n",
       "      <td>4198</td>\n",
       "    </tr>\n",
       "  </tbody>\n",
       "</table>\n",
       "</div>"
      ],
      "text/plain": [
       "   year  month  day gender  births\n",
       "0  1969      1  1.0      F    4046\n",
       "1  1969      1  1.0      M    4440\n",
       "2  1969      1  2.0      F    4454\n",
       "3  1969      1  2.0      M    4548\n",
       "4  1969      1  3.0      F    4548\n",
       "5  1969      1  3.0      M    4994\n",
       "6  1969      1  4.0      F    4440\n",
       "7  1969      1  4.0      M    4520\n",
       "8  1969      1  5.0      F    4192\n",
       "9  1969      1  5.0      M    4198"
      ]
     },
     "execution_count": 4,
     "metadata": {},
     "output_type": "execute_result"
    }
   ],
   "source": [
    "# clean data set\n",
    "# replaces null values in births w/ 0\n",
    "birth_data_df.fillna({\"births\": 0}, inplace = True) \n",
    "# drops row with null ie NaN values the data frame\n",
    "birth_data_df.dropna( inplace=True)\n",
    "# drops any  duplicated rows in the tables\n",
    "birth_data_df.drop_duplicates(inplace=True)\n",
    "\n",
    "birth_data_df.head(10)\n",
    "\n"
   ]
  },
  {
   "cell_type": "code",
   "execution_count": 5,
   "id": "b388848c-68f8-4607-91fb-2160864eb392",
   "metadata": {},
   "outputs": [
    {
     "name": "stdout",
     "output_type": "stream",
     "text": [
      "<class 'pandas.core.frame.DataFrame'>\n",
      "Index: 15067 entries, 0 to 15066\n",
      "Data columns (total 5 columns):\n",
      " #   Column  Non-Null Count  Dtype  \n",
      "---  ------  --------------  -----  \n",
      " 0   year    15067 non-null  int64  \n",
      " 1   month   15067 non-null  int64  \n",
      " 2   day     15067 non-null  float64\n",
      " 3   gender  15067 non-null  object \n",
      " 4   births  15067 non-null  int64  \n",
      "dtypes: float64(1), int64(3), object(1)\n",
      "memory usage: 706.3+ KB\n"
     ]
    }
   ],
   "source": [
    "# Get Table info \n",
    "birth_data_df.info()"
   ]
  },
  {
   "cell_type": "code",
   "execution_count": 6,
   "id": "79593617-5e1f-44bc-97d0-969046a8d74c",
   "metadata": {},
   "outputs": [],
   "source": [
    "men_df = birth_data_df[birth_data_df[\"gender\"] == \"M\"]\n",
    "women_df = birth_data_df[birth_data_df['gender'] ==\"F\"]"
   ]
  },
  {
   "cell_type": "code",
   "execution_count": 7,
   "id": "b51d2eb5-1bbd-48ab-98ee-86176b933984",
   "metadata": {},
   "outputs": [
    {
     "name": "stdout",
     "output_type": "stream",
     "text": [
      "   year   births\n",
      "0  1969  1846572\n",
      "1  1970  1918636\n",
      "2  1971  1826774\n",
      "3  1972  1673888\n",
      "4  1973  1613023\n",
      "5  1974  1627626\n",
      "6  1975  1618010\n",
      "7  1976  1628863\n",
      "8  1977  1708796\n",
      "9  1978  1711976\n"
     ]
    }
   ],
   "source": [
    "men_by_year = men_df.groupby(\"year\", as_index=False)[\"births\"].sum()\n",
    "print(men_by_year.head(10))"
   ]
  },
  {
   "cell_type": "code",
   "execution_count": 8,
   "id": "03617611-ba7d-49f2-a862-7a14831c09e8",
   "metadata": {},
   "outputs": [
    {
     "name": "stdout",
     "output_type": "stream",
     "text": [
      "   year   births\n",
      "0  1969  1753634\n",
      "1  1970  1819164\n",
      "2  1971  1736774\n",
      "3  1972  1592347\n",
      "4  1973  1533102\n",
      "5  1974  1543005\n",
      "6  1975  1535546\n",
      "7  1976  1547613\n",
      "8  1977  1623363\n",
      "9  1978  1626324\n"
     ]
    }
   ],
   "source": [
    "women_by_year = women_df.groupby(\"year\", as_index=False)[\"births\"].sum()\n",
    "print(women_by_year.head(10))"
   ]
  },
  {
   "cell_type": "code",
   "execution_count": 9,
   "id": "fc3eb703-56f4-4ed2-8d88-533c69bfaf83",
   "metadata": {},
   "outputs": [
    {
     "name": "stdout",
     "output_type": "stream",
     "text": [
      "   year gender   births  percentage\n",
      "0  1969      F  1753634   48.709268\n",
      "1  1969      M  1846572   51.290732\n",
      "2  1970      F  1819164   48.669378\n",
      "3  1970      M  1918636   51.330622\n",
      "4  1971      F  1736774   48.737214\n",
      "5  1971      M  1826774   51.262786\n",
      "6  1972      F  1592347   48.751759\n",
      "7  1972      M  1673888   51.248241\n",
      "9  1973      M  1613023   51.270150\n",
      "8  1973      F  1533102   48.729850\n"
     ]
    }
   ],
   "source": [
    "births_gender_year_df = birth_data_df.groupby([\"year\",\"gender\"], as_index=False)[\"births\"].sum().sort_values(by=[\"year\"])\n",
    "year_totals = births_gender_year_df.groupby(\"year\")[\"births\"].transform('sum')\n",
    "births_gender_year_df[\"percentage\"]= (births_gender_year_df[\"births\"] / year_totals ) *100\n",
    "print(births_gender_year_df.head(10))"
   ]
  },
  {
   "cell_type": "code",
   "execution_count": 10,
   "id": "c7dbc6ce-cb4c-4f61-a5c7-b2a96074f0f1",
   "metadata": {},
   "outputs": [
    {
     "name": "stdout",
     "output_type": "stream",
     "text": [
      "   year gender   births\n",
      "0  1969      F  1753634\n",
      "1  1969      M  1846572\n",
      "2  1970      F  1819164\n",
      "3  1970      M  1918636\n",
      "4  1971      F  1736774\n",
      "5  1971      M  1826774\n",
      "6  1972      F  1592347\n",
      "7  1972      M  1673888\n",
      "8  1973      F  1533102\n",
      "9  1973      M  1613023\n"
     ]
    }
   ],
   "source": [
    "birth_by_year = birth_data_df.groupby([\"year\", \"gender\"], as_index=False)[\"births\"].sum()\n",
    "print(birth_by_year.head(10))"
   ]
  },
  {
   "cell_type": "code",
   "execution_count": 11,
   "id": "7ba629c7-ab6b-4b72-b74e-283a0839afea",
   "metadata": {},
   "outputs": [
    {
     "name": "stdout",
     "output_type": "stream",
     "text": [
      "Mean births per year: 1762323.525\n",
      "Median births per year: 1783550.5\n",
      "Mode births per year: [1533102, 1535546, 1543005, 1547613, 1592347, 1613023, 1618010, 1623363, 1626324, 1627626, 1628863, 1673888, 1705837, 1708796, 1711976, 1736774, 1753634, 1762459, 1772037, 1775299, 1791802, 1793958, 1797239, 1819164, 1826774, 1833708, 1834774, 1846572, 1855522, 1860111, 1863478, 1867522, 1881766, 1888218, 1909210, 1918636, 1926987, 1930290, 1953105, 2004583]\n"
     ]
    }
   ],
   "source": [
    "# Calculate mean, median, and mode of births per year\n",
    "mean_births = birth_by_year['births'].mean()\n",
    "median_births = birth_by_year['births'].median()\n",
    "mode_births = birth_by_year['births'].mode().tolist()\n",
    "print(f\"Mean births per year: {mean_births}\")\n",
    "print(f\"Median births per year: {median_births}\")\n",
    "print(f\"Mode births per year: {mode_births}\")"
   ]
  },
  {
   "cell_type": "code",
   "execution_count": null,
   "id": "cc37ba04-8295-40b4-b037-2a4bdc156645",
   "metadata": {},
   "outputs": [],
   "source": []
  }
 ],
 "metadata": {
  "kernelspec": {
   "display_name": "Python (Anaconda)",
   "language": "python",
   "name": "base"
  },
  "language_info": {
   "codemirror_mode": {
    "name": "ipython",
    "version": 3
   },
   "file_extension": ".py",
   "mimetype": "text/x-python",
   "name": "python",
   "nbconvert_exporter": "python",
   "pygments_lexer": "ipython3",
   "version": "3.13.5"
  }
 },
 "nbformat": 4,
 "nbformat_minor": 5
}
