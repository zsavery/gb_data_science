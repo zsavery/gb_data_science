{
 "cells": [
  {
   "cell_type": "markdown",
   "id": "b2f1a2ff-3221-4813-90c2-914aa3c61d92",
   "metadata": {},
   "source": [
    "# Using Statistics with Jupyter Notebooks"
   ]
  },
  {
   "cell_type": "markdown",
   "id": "b055426d-7df4-4f83-9212-7ae0cdacaefc",
   "metadata": {},
   "source": [
    "## Introduction to Statistical Averaging"
   ]
  },
  {
   "cell_type": "markdown",
   "id": "6b4ef0f9-2806-402d-830a-d69addabf9eb",
   "metadata": {},
   "source": [
    "**Statistics** *(noun)* - a branch of mathematics dealing with the *collection*, *analysis*, *interpreation*, and *presentation* of masses of numerical data. \n",
    "> Allowoing for one to make **informned** decisions as a result."
   ]
  },
  {
   "cell_type": "markdown",
   "id": "18a47261-05c8-4a01-ba08-ae6feab4b9c4",
   "metadata": {},
   "source": [
    "## Averages"
   ]
  },
  {
   "cell_type": "markdown",
   "id": "4cf7a3af-ce6d-44e0-9c64-28d94abc9f97",
   "metadata": {},
   "source": [
    "### Mean"
   ]
  },
  {
   "cell_type": "markdown",
   "id": "25361eb1-6918-4abd-9221-149b988d34d1",
   "metadata": {},
   "source": [
    "**Mean** - summatizes an entire data set with a **single number** representing the data's *center point*."
   ]
  },
  {
   "cell_type": "markdown",
   "id": "4e43932e-f8c7-44a0-938a-84f3d0a21717",
   "metadata": {},
   "source": [
    "#### Proof\n",
    "$$mean = \\frac{sum\\ of\\ the\\ terms}{number\\ of\\ terms}$$\n",
    "\n",
    "\n",
    "$$mean = \\frac{\\sum{n}}{n}$$\n",
    "\n",
    "#### Example"
   ]
  },
  {
   "cell_type": "markdown",
   "id": "345acf4a-4b81-416b-aacc-eba56e56d5da",
   "metadata": {},
   "source": [
    "Data: $[88, 5, 4, 16, 72, 22, 75, 74, 27, 9]$\n",
    "\n",
    "Count: $[10]$\n",
    "\n",
    "Mean: $[39.2]$\n",
    "\n",
    "$$mean = \\frac{(88 + 5 + 4 + 16 + 72 + 22 + 75 + 74 + 27 + 9)}{10} $$\n",
    "$$mean = 39.2$$\n"
   ]
  },
  {
   "cell_type": "code",
   "execution_count": 1,
   "id": "5eb81647-d0a1-46ec-be57-d6f8db589dff",
   "metadata": {},
   "outputs": [
    {
     "name": "stdout",
     "output_type": "stream",
     "text": [
      "39.2\n"
     ]
    }
   ],
   "source": [
    "my_nums = [88, 5, 4, 16, 72, 22, 75, 74, 27, 9]\n",
    "count = len(my_nums)\n",
    "mean = sum(my_nums)/count\n",
    "print(mean)"
   ]
  },
  {
   "cell_type": "markdown",
   "id": "5ce0d2c3-b12a-4c39-9c83-d83208af9c87",
   "metadata": {},
   "source": [
    "### Median"
   ]
  },
  {
   "cell_type": "markdown",
   "id": "79aa743d-2616-4c3a-a522-08d77d041665",
   "metadata": {},
   "source": [
    "**Median** - The middle value of an ordered data set.\n",
    "\n",
    "#### Proof\n",
    "\n",
    "Odd: $$\\frac{n+1}{2}^{th}term$$\n",
    "Even: $$\\frac{\\frac{n}{2}^{th}term + (\\frac{n}{2}+1)^{th}term}{2}$$\n",
    "\n",
    "\n",
    "#### Example\n",
    "\n",
    "Data: $[4, 5, 9 ,16, 22, 27, 72, 74, 75, 88]$\n",
    "\n",
    "Find middle value(s).\n",
    "$[4, 5, 9 ,16, \\textbf{22}, \\textbf{27}, 72, 74, 75, 88]$\n",
    "\n",
    "$$ median = \\frac{22 + 27}{2} = 24.5 $$\n"
   ]
  },
  {
   "cell_type": "code",
   "execution_count": 2,
   "id": "a46b791b-bcf9-4d9d-8178-c88ce0c3eba4",
   "metadata": {},
   "outputs": [
    {
     "name": "stdout",
     "output_type": "stream",
     "text": [
      "[4, 5, 9, 16, 22, 27, 72, 74, 75, 88]\n",
      "24.5\n"
     ]
    }
   ],
   "source": [
    "sorted_my_nums = sorted(my_nums)\n",
    "print(sorted_my_nums)\n",
    "median = None\n",
    "if (count % 2 == 0):\n",
    "    median = (sorted_my_nums[count // 2] + sorted_my_nums[count // 2-1])/2\n",
    "else:\n",
    "    median = median = sorted_my_nums[count // 2]\n",
    "print(median)"
   ]
  },
  {
   "cell_type": "markdown",
   "id": "a1cc85ce-2862-4dfd-b411-f2776ed3233c",
   "metadata": {},
   "source": [
    "### Mode"
   ]
  },
  {
   "cell_type": "markdown",
   "id": "1ee0502f-babe-4049-8605-b1dbae12fcb4",
   "metadata": {},
   "source": [
    "**Mode** - is/are the value(s) repeated most often in a data set. \n",
    "- The value with the highest frequency.\n",
    "\n",
    "#### Example\n",
    "Data: $[2, 4, 5, 5, 7, 8, 8, 9, 10]$\n",
    "\n",
    "|Value|2|4|5|7|8|9|10|\n",
    "|:--:|:--:|:--:|:--:|:--:|:--:|:--:|:--:|\n",
    "|**Frequency**|1|1|2|1|2|1|1|\n",
    "\n",
    "$$ Mode = [5, 8]$$"
   ]
  },
  {
   "cell_type": "code",
   "execution_count": 3,
   "id": "9bf268a3-161a-4c1c-8072-1e3a78144c2c",
   "metadata": {},
   "outputs": [
    {
     "name": "stdout",
     "output_type": "stream",
     "text": [
      "[5, 8]\n"
     ]
    }
   ],
   "source": [
    "# Version 1\n",
    "my_nums = [2, 4, 5, 5, 7, 8, 8, 9, 10]\n",
    "my_dict = {num: my_nums.count(num) for num in my_nums}\n",
    "mode = [k for k, v in my_dict.items() if v == max(my_dict.values())]\n",
    "#mode = [k for num in my_nums if my_nums.count(num) == ]\n",
    "print(mode)"
   ]
  },
  {
   "cell_type": "code",
   "execution_count": 4,
   "id": "7355a75f-d7fa-48ac-9f69-9c3a87070ba0",
   "metadata": {},
   "outputs": [
    {
     "name": "stdout",
     "output_type": "stream",
     "text": [
      "[5, 8]\n"
     ]
    }
   ],
   "source": [
    "# Version 2\n",
    "my_dict = {}\n",
    "for num in my_nums:\n",
    "    my_dict[num] = my_nums.count(num)\n",
    "mode = []\n",
    "for k, v in my_dict.items():\n",
    "    if v == max(my_dict.values()):\n",
    "        mode.append(k)\n",
    "print(mode)"
   ]
  },
  {
   "cell_type": "markdown",
   "id": "b1444e17-2228-4b72-baf3-9b710157d4dc",
   "metadata": {},
   "source": [
    "## Spread of Data Practice\n",
    "\n",
    "### Domain\n",
    "\n",
    "Domain - signifies the entire range of values that data points can assume."
   ]
  },
  {
   "cell_type": "code",
   "execution_count": 5,
   "id": "2d57426e",
   "metadata": {},
   "outputs": [],
   "source": [
    "import numpy as np"
   ]
  },
  {
   "cell_type": "code",
   "execution_count": 6,
   "id": "161312dd",
   "metadata": {},
   "outputs": [
    {
     "name": "stdout",
     "output_type": "stream",
     "text": [
      "[134453 156224 191952 189597 149875  38491 186924  16233  44821 178487\n",
      " 104030 146520  32151 178908 182201  98203 142744 147286  74155 154059\n",
      "  21041  21123 125854  21594  62415  45643 152340  21365 186332  75444\n",
      " 101805  26525 169343  48483  46115  94176 138143  84468 173403 181848]\n",
      "Max: $191952, Min: $16233\n",
      "Domain: $16233 -> $191952\n"
     ]
    }
   ],
   "source": [
    "data = np.random.randint(15_000, 200_000, 40)  # 1d array with 5 evenly spaced numbers between 0 and 10\n",
    "print(data)\n",
    "max_value = np.max(data)\n",
    "min_value = np.min(data)\n",
    "print(f'Max: ${max_value}, Min: ${min_value}')\n",
    "domain = {'min': min_value, 'max': max_value}\n",
    "print(f'Domain: ${domain.get(\"min\")} -> ${domain.get(\"max\")}')"
   ]
  },
  {
   "cell_type": "markdown",
   "id": "76a42fe2",
   "metadata": {},
   "source": [
    "\n",
    "### Range\n",
    "\n",
    "Range - the spread between the maximum and minimum values. \n",
    "\n",
    "$$range = (n - n_1)$$\n",
    "$$range = max - min$$\n",
    "$$n_1 = \\$22868, n = 197281$$\n",
    "$$range = \\$1 74413$$"
   ]
  },
  {
   "cell_type": "code",
   "execution_count": 7,
   "id": "cc37ba04-8295-40b4-b037-2a4bdc156645",
   "metadata": {},
   "outputs": [
    {
     "name": "stdout",
     "output_type": "stream",
     "text": [
      "Range: $175719\n"
     ]
    }
   ],
   "source": [
    "range  = max_value - min_value\n",
    "print(f'Range: ${range}')"
   ]
  },
  {
   "cell_type": "markdown",
   "id": "52d9b8cf",
   "metadata": {},
   "source": [
    "## Higher Concepts\n",
    "\n",
    "### Variance\n",
    "\n",
    "Variance - measures how far each value in the data set is from the mean. It is the average of the squared differences from the mean.\n",
    "\n",
    "$$Variance = \\frac{\\sum (x_i - \\mu)^2}{n-1}$$\n",
    "\n",
    "Where $x_i$ is each value, $\\mu$ is the mean, and $n$ is the number of values."
   ]
  },
  {
   "cell_type": "code",
   "execution_count": 8,
   "id": "cfaa5c82",
   "metadata": {},
   "outputs": [
    {
     "name": "stdout",
     "output_type": "stream",
     "text": [
      "Variance of : 3638378347.777499\n"
     ]
    }
   ],
   "source": [
    "variance = data.var()\n",
    "print(f\"Variance of : {variance}\")"
   ]
  },
  {
   "cell_type": "markdown",
   "id": "3fe6be83",
   "metadata": {},
   "source": [
    "### Standard Deviation\n",
    "\n",
    "Standard Deviation - measures the amount of variation or dispersion in a set of values. It is the square root of the variance.\n",
    "\n",
    "$$Standard\\ Deviation = \\sqrt{Variance}$$\n",
    "\n",
    "A low standard deviation means values are close to the mean, while a high standard deviation means values are spread out."
   ]
  },
  {
   "cell_type": "code",
   "execution_count": 9,
   "id": "9d02885b",
   "metadata": {},
   "outputs": [
    {
     "name": "stdout",
     "output_type": "stream",
     "text": [
      "Standard deviation : 60318.971706897486\n"
     ]
    }
   ],
   "source": [
    "\n",
    "stdev= data.std()\n",
    "print(f\"Standard deviation : {stdev}\")"
   ]
  },
  {
   "cell_type": "markdown",
   "id": "73c4f4ae",
   "metadata": {},
   "source": [
    "### Practice Prompt\n",
    "Try generating a new random dataset and calculate its mean, variance, and standard deviation. Visualize the results with a histogram."
   ]
  }
 ],
 "metadata": {
  "kernelspec": {
   "display_name": "Python (Anaconda)",
   "language": "python",
   "name": "base"
  },
  "language_info": {
   "codemirror_mode": {
    "name": "ipython",
    "version": 3
   },
   "file_extension": ".py",
   "mimetype": "text/x-python",
   "name": "python",
   "nbconvert_exporter": "python",
   "pygments_lexer": "ipython3",
   "version": "3.13.5"
  }
 },
 "nbformat": 4,
 "nbformat_minor": 5
}
