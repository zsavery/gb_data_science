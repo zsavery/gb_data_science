{
 "cells": [
  {
   "cell_type": "code",
   "execution_count": null,
   "id": "78c35ca0",
   "metadata": {},
   "outputs": [],
   "source": []
  },
  {
   "cell_type": "code",
   "execution_count": 7,
   "id": "43c1a9ff",
   "metadata": {},
   "outputs": [
    {
     "name": "stdout",
     "output_type": "stream",
     "text": [
      "Z\n",
      "y\n",
      "o\n",
      "n\n"
     ]
    }
   ],
   "source": [
    "# numericals\n",
    "number_of_students = 6 # int - integer (whole number)\n",
    "wallet = 34.79  # float (decimal numbers)\n",
    "\n",
    "# string \n",
    "name = \"Zyon\" \n",
    "\n",
    "for char in name:\n",
    "    print(char)\n",
    "\n",
    "# print(wallet, type(wallet))"
   ]
  },
  {
   "cell_type": "code",
   "execution_count": 15,
   "id": "44c5b078",
   "metadata": {},
   "outputs": [
    {
     "name": "stdout",
     "output_type": "stream",
     "text": [
      "John and Amy are the same age\n",
      "in a loop\n",
      "in a loop\n",
      "in a loop\n",
      "in a loop\n",
      "in a loop\n",
      "in a loop\n",
      "in a loop\n"
     ]
    }
   ],
   "source": [
    "# boolean\n",
    "john = 17\n",
    "amy = 17\n",
    "\n",
    "if john > amy:\n",
    "    print(\"John is older\")\n",
    "elif amy == john:\n",
    "    print(\"John and Amy are the same age\")\n",
    "else:\n",
    "    print(\"Amy is older\")\n",
    "\n",
    "\n",
    "flag = True\n",
    "count = 0\n",
    "while flag:\n",
    "    print(\"in a loop\")\n",
    "    if count > 5:\n",
    "        break\n",
    "    count += 1\n"
   ]
  },
  {
   "cell_type": "code",
   "execution_count": 22,
   "id": "b75314a0",
   "metadata": {},
   "outputs": [
    {
     "name": "stdout",
     "output_type": "stream",
     "text": [
      "Blue\n",
      "Red\n",
      "Yellow\n",
      "['Blue', 'Red', 'Yellow']\n",
      "['Blue', 'Red', 'Yellow']\n",
      "['Blue', 'Red', 'Yellow']\n",
      "Blue\n",
      "White\n",
      "Red\n",
      "Black\n",
      "Yellow\n",
      "Gold\n"
     ]
    }
   ],
   "source": [
    "colors = [\"Blue\", \"Red\", \"Yellow\"]\n",
    "#           0       1       2      size = 3\n",
    "\n",
    "for i in range(len(colors)):\n",
    "    print(colors[i])\n",
    "\n",
    "for color in colors:\n",
    "    print(colors)\n",
    "\n",
    "for i, color in enumerate(colors):\n",
    "    new_colors = [\"White\", \"Black\", \"Gold\"]\n",
    "    print(color)\n",
    "    colors[i] = new_colors[i]\n",
    "    print(colors[i])\n"
   ]
  }
 ],
 "metadata": {
  "kernelspec": {
   "display_name": ".venv",
   "language": "python",
   "name": "python3"
  },
  "language_info": {
   "codemirror_mode": {
    "name": "ipython",
    "version": 3
   },
   "file_extension": ".py",
   "mimetype": "text/x-python",
   "name": "python",
   "nbconvert_exporter": "python",
   "pygments_lexer": "ipython3",
   "version": "3.13.0"
  }
 },
 "nbformat": 4,
 "nbformat_minor": 5
}
