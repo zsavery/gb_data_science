{
 "cells": [
  {
   "cell_type": "code",
   "execution_count": 1,
   "id": "f07ca9e7",
   "metadata": {},
   "outputs": [],
   "source": [
    "import random"
   ]
  },
  {
   "cell_type": "code",
   "execution_count": 2,
   "id": "054c37df",
   "metadata": {},
   "outputs": [
    {
     "name": "stdout",
     "output_type": "stream",
     "text": [
      "[5, 12, 13, 16, 16, 18, 18, 20, 21, 26, 28, 29, 30, 35, 36, 37, 41, 42, 43, 46, 47, 54, 56, 57, 58, 61, 66, 66, 67, 74, 76, 78, 82, 83, 87, 88, 95, 98, 100, 100]\n"
     ]
    }
   ],
   "source": [
    "# create list to hold 40 values of random numbers\n",
    "rand_lst = []\n",
    "for _ in range(40):\n",
    "    ran_num = random.randint(0,100)\n",
    "    rand_lst.append(ran_num)\n",
    "rand_lst.sort() # rand_lst = sorted(rand_lst)\n",
    "print(rand_lst)"
   ]
  },
  {
   "cell_type": "code",
   "execution_count": 3,
   "id": "7b12693f",
   "metadata": {},
   "outputs": [],
   "source": [
    "# log the mean, mode, median values\n",
    "mean = sum(rand_lst)/ len(rand_lst) # total / count"
   ]
  },
  {
   "cell_type": "code",
   "execution_count": 7,
   "id": "4a240400",
   "metadata": {},
   "outputs": [],
   "source": [
    "freq = {}\n",
    "for num in rand_lst:\n",
    "    # Add a key with a num from our random number list\n",
    "    # If the key exsists in the dictionary add 1 to the value \n",
    "    # Else set to zero and add 1\n",
    "    freq[num] = freq.get(num, 0) + 1\n",
    "\n",
    "mode = [k for k, v in freq.items() if v == max(freq.values())] \n",
    "# [] -> [5, 7] "
   ]
  },
  {
   "cell_type": "code",
   "execution_count": 5,
   "id": "c53af4a6",
   "metadata": {},
   "outputs": [],
   "source": [
    "sorted_randoms = sorted(rand_lst)\n",
    "\"\"\"\n",
    "If teir are an even number of values in our list we have two middle values. We must add both values \n",
    "divide to get our median. \n",
    "*In a sorted list where the lenght is n. The middle will fall in n//2 index\n",
    "\"\"\"\n",
    "length = len(sorted_randoms)\n",
    "if length %2 == 0:\n",
    "    median = (sorted_randoms[length//2] + sorted_randoms[length//2 -1])/2\n",
    "else:\n",
    "    median = sorted_randoms[length//2]\n",
    "\"\"\" \n",
    "length = 6\n",
    "[2, 4, 5 ,6, 9, 23]\n",
    "6 = lst[length//2]\n",
    "5 = lst[length//2 -1]\n",
    "(6 + 5) / 2 = 5.5\n",
    "\n",
    "\n",
    "\"\"\"\n"
   ]
  },
  {
   "cell_type": "code",
   "execution_count": 6,
   "id": "82a6f9c8",
   "metadata": {},
   "outputs": [
    {
     "name": "stdout",
     "output_type": "stream",
     "text": [
      "Mean: 50.62\n",
      "Mode: [16, 18, 66, 100]\n",
      "Median: 46.5\n"
     ]
    }
   ],
   "source": [
    "\n",
    "print(f\"Mean: {mean:.2f}\")\n",
    "print(f\"Mode: {mode}\")\n",
    "print(f\"Median: {median}\")"
   ]
  },
  {
   "cell_type": "code",
   "execution_count": null,
   "id": "fb68c899-cc20-4241-a8e7-1012d18d8350",
   "metadata": {},
   "outputs": [],
   "source": [
    "# Serires -> [3, 5, 6, 3] 1d\n",
    "# Dataframes [[\"Scooby', \"Velma', 'Fred'], [8, 20, 21]] 2d - excel - google sheets"
   ]
  }
 ],
 "metadata": {
  "kernelspec": {
   "display_name": "Python 3 (ipykernel)",
   "language": "python",
   "name": "python3"
  },
  "language_info": {
   "codemirror_mode": {
    "name": "ipython",
    "version": 3
   },
   "file_extension": ".py",
   "mimetype": "text/x-python",
   "name": "python",
   "nbconvert_exporter": "python",
   "pygments_lexer": "ipython3",
   "version": "3.9.13"
  }
 },
 "nbformat": 4,
 "nbformat_minor": 5
}
