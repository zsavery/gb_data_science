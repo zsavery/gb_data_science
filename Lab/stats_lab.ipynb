{
 "cells": [
  {
   "cell_type": "code",
   "execution_count": 15,
   "id": "f07ca9e7",
   "metadata": {},
   "outputs": [],
   "source": [
    "import random"
   ]
  },
  {
   "cell_type": "code",
   "execution_count": 16,
   "id": "054c37df",
   "metadata": {},
   "outputs": [
    {
     "name": "stdout",
     "output_type": "stream",
     "text": [
      "[2, 9, 10, 11, 14, 14, 17, 22, 23, 25, 26, 28, 29, 30, 32, 32, 34, 34, 37, 37, 40, 41, 47, 47, 50, 54, 57, 60, 60, 61, 63, 65, 66, 72, 73, 74, 84, 94, 96, 100]\n"
     ]
    }
   ],
   "source": [
    "# create list to hold 40 values of random numbers\n",
    "rand_lst = []\n",
    "for _ in range(40):\n",
    "    ran_num = random.randint(0,100)\n",
    "    rand_lst.append(ran_num)\n",
    "rand_lst.sort() # rand_lst = sorted(rand_lst)\n",
    "print(rand_lst)"
   ]
  },
  {
   "cell_type": "code",
   "execution_count": 17,
   "id": "7b12693f",
   "metadata": {},
   "outputs": [],
   "source": [
    "# log the mean, mode, median values\n",
    "mean = sum(rand_lst)/ len(rand_lst) # total / count"
   ]
  },
  {
   "cell_type": "code",
   "execution_count": null,
   "id": "4a240400",
   "metadata": {},
   "outputs": [],
   "source": [
    "freq = {}\n",
    "for num in rand_lst:\n",
    "    # Add a key with a num from our random number list\n",
    "    # If the key exsists in the dictionary add 1 to the value \n",
    "    # Else set to zero and add 1\n",
    "    freq[num] = freq.get(num, 0) + 1\n",
    "\n",
    "mode = [k for k, v in freq.items() if v == max(freq.values())]"
   ]
  },
  {
   "cell_type": "code",
   "execution_count": null,
   "id": "c53af4a6",
   "metadata": {},
   "outputs": [],
   "source": [
    "sorted_randoms = sorted(rand_lst)\n",
    "\"\"\"\n",
    "If teir are an even number of values in our list we have two middle values. We must add both values \n",
    "divide to get our median. \n",
    "*In a sorted list where the lenght is n. The middle will fall in n//2 index\n",
    "\"\"\"\n",
    "length = len(sorted_randoms)\n",
    "if length %2 == 0:\n",
    "    median = (sorted_randoms[length//2] + sorted_randoms[length//2 -1])/2\n",
    "else:\n",
    "    median = sorted_randoms[length//2]\n"
   ]
  },
  {
   "cell_type": "code",
   "execution_count": 24,
   "id": "82a6f9c8",
   "metadata": {},
   "outputs": [
    {
     "name": "stdout",
     "output_type": "stream",
     "text": [
      "Mean: 44.25\n",
      "Mode: [14, 32, 34, 37, 47, 60]\n",
      "Median: 38.5\n"
     ]
    }
   ],
   "source": [
    "\n",
    "print(f\"Mean: {mean:.2f}\")\n",
    "print(f\"Mode: {mode}\")\n",
    "print(f\"Median: {median}\")"
   ]
  }
 ],
 "metadata": {
  "kernelspec": {
   "display_name": ".venv",
   "language": "python",
   "name": "python3"
  },
  "language_info": {
   "codemirror_mode": {
    "name": "ipython",
    "version": 3
   },
   "file_extension": ".py",
   "mimetype": "text/x-python",
   "name": "python",
   "nbconvert_exporter": "python",
   "pygments_lexer": "ipython3",
   "version": "3.13.0"
  }
 },
 "nbformat": 4,
 "nbformat_minor": 5
}
