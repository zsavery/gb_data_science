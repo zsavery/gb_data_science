{
 "cells": [
  {
   "cell_type": "code",
   "execution_count": 1,
   "id": "7d14edf5-00ca-45d8-83fb-62ab22d0944a",
   "metadata": {},
   "outputs": [],
   "source": [
    "# Heros Lab"
   ]
  },
  {
   "cell_type": "code",
   "execution_count": 2,
   "id": "ee56fe03-acf3-49b6-a3ce-b58b2e1182be",
   "metadata": {},
   "outputs": [],
   "source": [
    "import pandas as pd\n",
    "import numpy as np"
   ]
  },
  {
   "cell_type": "code",
   "execution_count": 3,
   "id": "52973325-1ea9-4777-94bd-a302ffd090d5",
   "metadata": {},
   "outputs": [
    {
     "data": {
      "text/html": [
       "<div>\n",
       "<style scoped>\n",
       "    .dataframe tbody tr th:only-of-type {\n",
       "        vertical-align: middle;\n",
       "    }\n",
       "\n",
       "    .dataframe tbody tr th {\n",
       "        vertical-align: top;\n",
       "    }\n",
       "\n",
       "    .dataframe thead th {\n",
       "        text-align: right;\n",
       "    }\n",
       "</style>\n",
       "<table border=\"1\" class=\"dataframe\">\n",
       "  <thead>\n",
       "    <tr style=\"text-align: right;\">\n",
       "      <th></th>\n",
       "      <th>Super Hero Name</th>\n",
       "      <th>Location</th>\n",
       "      <th>Power Source</th>\n",
       "      <th>Abilty</th>\n",
       "    </tr>\n",
       "  </thead>\n",
       "  <tbody>\n",
       "    <tr>\n",
       "      <th>0</th>\n",
       "      <td>Spiderman</td>\n",
       "      <td>New York</td>\n",
       "      <td>Radioactive Spider</td>\n",
       "      <td>Climb Walls</td>\n",
       "    </tr>\n",
       "    <tr>\n",
       "      <th>1</th>\n",
       "      <td>Wolverine</td>\n",
       "      <td>Canada</td>\n",
       "      <td>Mutant</td>\n",
       "      <td>Healing Claws</td>\n",
       "    </tr>\n",
       "    <tr>\n",
       "      <th>2</th>\n",
       "      <td>Storm</td>\n",
       "      <td>Kenya</td>\n",
       "      <td>Mutant</td>\n",
       "      <td>Controls Weather</td>\n",
       "    </tr>\n",
       "  </tbody>\n",
       "</table>\n",
       "</div>"
      ],
      "text/plain": [
       "  Super Hero Name  Location        Power Source            Abilty\n",
       "0       Spiderman  New York  Radioactive Spider       Climb Walls\n",
       "1       Wolverine    Canada              Mutant     Healing Claws\n",
       "2           Storm     Kenya              Mutant  Controls Weather"
      ]
     },
     "execution_count": 3,
     "metadata": {},
     "output_type": "execute_result"
    }
   ],
   "source": [
    "# create a hero dataframe\n",
    "df = pd.read_csv('heros.csv',)\n",
    "df.head(3)"
   ]
  },
  {
   "cell_type": "code",
   "execution_count": 4,
   "id": "729528fd-af23-4ddd-84da-e494b04cb896",
   "metadata": {},
   "outputs": [
    {
     "name": "stdout",
     "output_type": "stream",
     "text": [
      "<class 'pandas.core.frame.DataFrame'>\n",
      "RangeIndex: 5 entries, 0 to 4\n",
      "Data columns (total 4 columns):\n",
      " #   Column           Non-Null Count  Dtype \n",
      "---  ------           --------------  ----- \n",
      " 0   Super Hero Name  5 non-null      object\n",
      " 1   Location         5 non-null      object\n",
      " 2   Power Source     5 non-null      object\n",
      " 3   Abilty           5 non-null      object\n",
      "dtypes: object(4)\n",
      "memory usage: 292.0+ bytes\n"
     ]
    }
   ],
   "source": [
    "df.info()\n"
   ]
  },
  {
   "cell_type": "code",
   "execution_count": 5,
   "id": "ee96ed43-6c7f-4e3e-8453-6330ad932c4a",
   "metadata": {},
   "outputs": [],
   "source": [
    "df = df.drop('Location', axis=1) # make sure column names match"
   ]
  },
  {
   "cell_type": "code",
   "execution_count": 6,
   "id": "17ff6e25-f47a-459a-b7eb-4acd3a59eb36",
   "metadata": {},
   "outputs": [
    {
     "data": {
      "text/html": [
       "<div>\n",
       "<style scoped>\n",
       "    .dataframe tbody tr th:only-of-type {\n",
       "        vertical-align: middle;\n",
       "    }\n",
       "\n",
       "    .dataframe tbody tr th {\n",
       "        vertical-align: top;\n",
       "    }\n",
       "\n",
       "    .dataframe thead th {\n",
       "        text-align: right;\n",
       "    }\n",
       "</style>\n",
       "<table border=\"1\" class=\"dataframe\">\n",
       "  <thead>\n",
       "    <tr style=\"text-align: right;\">\n",
       "      <th></th>\n",
       "      <th>Super Hero Name</th>\n",
       "      <th>Power Source</th>\n",
       "      <th>Abilty</th>\n",
       "    </tr>\n",
       "  </thead>\n",
       "  <tbody>\n",
       "    <tr>\n",
       "      <th>0</th>\n",
       "      <td>Spiderman</td>\n",
       "      <td>Radioactive Spider</td>\n",
       "      <td>Climb Walls</td>\n",
       "    </tr>\n",
       "    <tr>\n",
       "      <th>1</th>\n",
       "      <td>Wolverine</td>\n",
       "      <td>Mutant</td>\n",
       "      <td>Healing Claws</td>\n",
       "    </tr>\n",
       "    <tr>\n",
       "      <th>2</th>\n",
       "      <td>Storm</td>\n",
       "      <td>Mutant</td>\n",
       "      <td>Controls Weather</td>\n",
       "    </tr>\n",
       "    <tr>\n",
       "      <th>3</th>\n",
       "      <td>Batman</td>\n",
       "      <td>Money</td>\n",
       "      <td>Detective</td>\n",
       "    </tr>\n",
       "    <tr>\n",
       "      <th>4</th>\n",
       "      <td>Flash</td>\n",
       "      <td>Speed Force</td>\n",
       "      <td>Super Speed</td>\n",
       "    </tr>\n",
       "  </tbody>\n",
       "</table>\n",
       "</div>"
      ],
      "text/plain": [
       "  Super Hero Name        Power Source            Abilty\n",
       "0       Spiderman  Radioactive Spider       Climb Walls\n",
       "1       Wolverine              Mutant     Healing Claws\n",
       "2           Storm              Mutant  Controls Weather\n",
       "3          Batman               Money         Detective\n",
       "4           Flash         Speed Force       Super Speed"
      ]
     },
     "execution_count": 6,
     "metadata": {},
     "output_type": "execute_result"
    }
   ],
   "source": [
    "df"
   ]
  },
  {
   "cell_type": "code",
   "execution_count": 7,
   "id": "974ebbe7-5176-430d-9e51-7b4573998a68",
   "metadata": {},
   "outputs": [],
   "source": [
    "df.to_csv('new_heros.csv') # creates an csv "
   ]
  },
  {
   "cell_type": "code",
   "execution_count": null,
   "id": "6e895c2c-a91f-4483-ab48-298fdecfdb46",
   "metadata": {},
   "outputs": [],
   "source": []
  }
 ],
 "metadata": {
  "kernelspec": {
   "display_name": "Python (Anaconda)",
   "language": "python",
   "name": "base"
  },
  "language_info": {
   "codemirror_mode": {
    "name": "ipython",
    "version": 3
   },
   "file_extension": ".py",
   "mimetype": "text/x-python",
   "name": "python",
   "nbconvert_exporter": "python",
   "pygments_lexer": "ipython3",
   "version": "3.13.5"
  }
 },
 "nbformat": 4,
 "nbformat_minor": 5
}
