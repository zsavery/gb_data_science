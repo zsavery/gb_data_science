{
 "cells": [
  {
   "cell_type": "code",
   "execution_count": 1,
   "id": "28880ee5-ae54-451b-a98c-a51f66343a2c",
   "metadata": {},
   "outputs": [],
   "source": [
    "def is_prime(n) -> bool:\n",
    "    if n <= 0:\n",
    "        return False\n",
    "    if n == 1:\n",
    "        return True\n",
    "    for num in range(2, n):\n",
    "        if n % num == 0:\n",
    "            return False\n",
    "    return True"
   ]
  },
  {
   "cell_type": "code",
   "execution_count": 6,
   "id": "d98b92df-ae3c-457d-802b-ac5d37a70fe9",
   "metadata": {},
   "outputs": [],
   "source": [
    "def generate_primes(limit):\n",
    "    result = []\n",
    "    for n in range(limit+1):\n",
    "        if is_prime(n):\n",
    "            result.append(n)\n",
    "        \n",
    "    return result"
   ]
  },
  {
   "cell_type": "code",
   "execution_count": 5,
   "id": "33a32177-afe5-4167-ad1c-cae0a20dc1a4",
   "metadata": {},
   "outputs": [
    {
     "name": "stdout",
     "output_type": "stream",
     "text": [
      "1 True\n",
      "2 True\n",
      "3 True\n",
      "4 False\n",
      "5 True\n",
      "6 False\n",
      "7 True\n",
      "8 False\n",
      "9 False\n",
      "10 False\n",
      "11 True\n",
      "12 False\n",
      "13 True\n",
      "14 False\n",
      "15 False\n",
      "16 False\n",
      "17 True\n",
      "18 False\n",
      "19 True\n",
      "20 False\n",
      "21 False\n",
      "22 False\n",
      "23 True\n",
      "24 False\n",
      "25 False\n"
     ]
    }
   ],
   "source": [
    "for num in range(1,26):\n",
    "    print(num, is_prime(num))"
   ]
  },
  {
   "cell_type": "code",
   "execution_count": 7,
   "id": "7fa2b45b-7ca7-4d36-bb8d-adfd5e165acf",
   "metadata": {},
   "outputs": [],
   "source": [
    "primes = generate_primes(25)"
   ]
  },
  {
   "cell_type": "code",
   "execution_count": 8,
   "id": "ea2b4a1d-6c16-4b1a-b00f-3e02dbd919b0",
   "metadata": {},
   "outputs": [
    {
     "data": {
      "text/plain": [
       "[1, 2, 3, 5, 7, 11, 13, 17, 19, 23]"
      ]
     },
     "execution_count": 8,
     "metadata": {},
     "output_type": "execute_result"
    }
   ],
   "source": [
    "primes"
   ]
  },
  {
   "cell_type": "code",
   "execution_count": null,
   "id": "489da998-92ef-4b88-ae75-948cadf4c688",
   "metadata": {},
   "outputs": [],
   "source": []
  }
 ],
 "metadata": {
  "kernelspec": {
   "display_name": "Python (Anaconda)",
   "language": "python",
   "name": "base"
  },
  "language_info": {
   "codemirror_mode": {
    "name": "ipython",
    "version": 3
   },
   "file_extension": ".py",
   "mimetype": "text/x-python",
   "name": "python",
   "nbconvert_exporter": "python",
   "pygments_lexer": "ipython3",
   "version": "3.13.5"
  }
 },
 "nbformat": 4,
 "nbformat_minor": 5
}
