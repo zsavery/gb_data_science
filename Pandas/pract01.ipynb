{
 "cells": [
  {
   "cell_type": "code",
   "execution_count": 1,
   "id": "8ae62332-69af-4e64-84f5-abec64be4305",
   "metadata": {},
   "outputs": [],
   "source": [
    "import numpy as np\n",
    "import pandas as pd"
   ]
  },
  {
   "cell_type": "code",
   "execution_count": 2,
   "id": "045c074b-cfc3-41e3-8a65-cdf4618fa2dd",
   "metadata": {},
   "outputs": [
    {
     "name": "stdout",
     "output_type": "stream",
     "text": [
      "0              Titanic\n",
      "1            Like Mike\n",
      "2    Back 2 the Future\n",
      "dtype: object\n",
      "0              Titanic\n",
      "1            Like Mike\n",
      "2    Back 2 the Future\n",
      "dtype: object\n",
      "0              Titanic\n",
      "1            Like Mike\n",
      "2    Back 2 the Future\n",
      "dtype: object\n",
      "0              Titanic\n",
      "1            Like Mike\n",
      "2    Back 2 the Future\n",
      "dtype: object\n"
     ]
    }
   ],
   "source": [
    "# Create list\n",
    "movies = [\"Titanic\", \"Like Mike\", \"Back 2 the Future\"]\n",
    "\n",
    "\n",
    "# Creae a series\n",
    "moives_Srs = pd.Series(movies)\n",
    "print(moives_Srs)\n",
    "print(moives_Srs.head()) # first couple\n",
    "print(moives_Srs.tail()) \n",
    "print(moives_Srs.head()) "
   ]
  },
  {
   "cell_type": "code",
   "execution_count": 3,
   "id": "981714de-381f-4de0-b629-ed74e5049992",
   "metadata": {},
   "outputs": [
    {
     "name": "stdout",
     "output_type": "stream",
     "text": [
      "OG DataFrame\n",
      "    name  age  qualified\n",
      "0  Sally   50       True\n",
      "1   Mary   40      False\n",
      "2   John   30      False\n",
      "\n",
      "\n"
     ]
    }
   ],
   "source": [
    "data = {\n",
    "    \"name\": [\"Sally\", \"Mary\", \"John\"],\n",
    "    \"age\": [ 50, 40, 30],\n",
    "    \"qualified\": [True, False, False]\n",
    "}\n",
    "\n",
    "df = pd.DataFrame(data)\n",
    "\n",
    "print(\"OG DataFrame\")\n",
    "print(df)\n",
    "print(\"\\n\")\n"
   ]
  },
  {
   "cell_type": "code",
   "execution_count": 4,
   "id": "5a9b71e1-d495-4c0a-9cd6-c5bd761c00a2",
   "metadata": {},
   "outputs": [
    {
     "name": "stdout",
     "output_type": "stream",
     "text": [
      "DataFrame After Renaming\n",
      "    Name  Age     Is\n",
      "a  Sally   50   True\n",
      "b   Mary   40  False\n",
      "c   John   30  False\n",
      "\n",
      "\n"
     ]
    }
   ],
   "source": [
    "new_df = df.rename(columns={\"name\": \"Name\", \"age\": \"Age\", \"qualified\": \"Is\" }, \n",
    "                   index={0: 'a', 1: 'b', 2: 'c' })\n",
    "print(\"DataFrame After Renaming\")\n",
    "print(new_df)\n",
    "print(\"\\n\")"
   ]
  },
  {
   "cell_type": "code",
   "execution_count": null,
   "id": "ae0fca7e-95ad-442a-85ac-089ac915885d",
   "metadata": {},
   "outputs": [],
   "source": [
    "new_srs = "
   ]
  }
 ],
 "metadata": {
  "kernelspec": {
   "display_name": "Python 3 (ipykernel)",
   "language": "python",
   "name": "python3"
  },
  "language_info": {
   "codemirror_mode": {
    "name": "ipython",
    "version": 3
   },
   "file_extension": ".py",
   "mimetype": "text/x-python",
   "name": "python",
   "nbconvert_exporter": "python",
   "pygments_lexer": "ipython3",
   "version": "3.12.7"
  }
 },
 "nbformat": 4,
 "nbformat_minor": 5
}
